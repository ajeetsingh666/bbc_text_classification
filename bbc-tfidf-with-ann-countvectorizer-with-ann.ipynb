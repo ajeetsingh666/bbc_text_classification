{
 "cells": [
  {
   "cell_type": "code",
   "execution_count": 1,
   "id": "d33b5a9d",
   "metadata": {
    "execution": {
     "iopub.execute_input": "2024-05-12T17:37:15.354256Z",
     "iopub.status.busy": "2024-05-12T17:37:15.353426Z",
     "iopub.status.idle": "2024-05-12T17:37:35.204149Z",
     "shell.execute_reply": "2024-05-12T17:37:35.202942Z"
    },
    "papermill": {
     "duration": 19.867212,
     "end_time": "2024-05-12T17:37:35.207513",
     "exception": false,
     "start_time": "2024-05-12T17:37:15.340301",
     "status": "completed"
    },
    "tags": []
   },
   "outputs": [
    {
     "name": "stderr",
     "output_type": "stream",
     "text": [
      "2024-05-12 17:37:21.380594: E external/local_xla/xla/stream_executor/cuda/cuda_dnn.cc:9261] Unable to register cuDNN factory: Attempting to register factory for plugin cuDNN when one has already been registered\n",
      "2024-05-12 17:37:21.380824: E external/local_xla/xla/stream_executor/cuda/cuda_fft.cc:607] Unable to register cuFFT factory: Attempting to register factory for plugin cuFFT when one has already been registered\n",
      "2024-05-12 17:37:21.566417: E external/local_xla/xla/stream_executor/cuda/cuda_blas.cc:1515] Unable to register cuBLAS factory: Attempting to register factory for plugin cuBLAS when one has already been registered\n"
     ]
    }
   ],
   "source": [
    "import pandas as pd\n",
    "import numpy as np\n",
    "import matplotlib.pyplot as plt\n",
    "import re\n",
    "import string\n",
    "import nltk\n",
    "from nltk.corpus import stopwords\n",
    "from sklearn.model_selection import train_test_split\n",
    "from sklearn.feature_extraction.text import CountVectorizer\n",
    "from sklearn.feature_extraction.text import TfidfVectorizer\n",
    "from sklearn.metrics import accuracy_score, confusion_matrix\n",
    "import tensorflow as tf\n",
    "from tensorflow.keras.models import Sequential\n",
    "from tensorflow.keras.layers import Dense, Dropout\n",
    "from tensorflow.keras.callbacks import EarlyStopping\n",
    "import seaborn as sns\n",
    "\n",
    "import warnings\n",
    "warnings.filterwarnings(\"ignore\")"
   ]
  },
  {
   "cell_type": "code",
   "execution_count": 2,
   "id": "9ff2dd89",
   "metadata": {
    "execution": {
     "iopub.execute_input": "2024-05-12T17:37:35.230416Z",
     "iopub.status.busy": "2024-05-12T17:37:35.229699Z",
     "iopub.status.idle": "2024-05-12T17:37:35.375698Z",
     "shell.execute_reply": "2024-05-12T17:37:35.374359Z"
    },
    "papermill": {
     "duration": 0.160789,
     "end_time": "2024-05-12T17:37:35.378629",
     "exception": false,
     "start_time": "2024-05-12T17:37:35.217840",
     "status": "completed"
    },
    "tags": []
   },
   "outputs": [
    {
     "data": {
      "text/html": [
       "<div>\n",
       "<style scoped>\n",
       "    .dataframe tbody tr th:only-of-type {\n",
       "        vertical-align: middle;\n",
       "    }\n",
       "\n",
       "    .dataframe tbody tr th {\n",
       "        vertical-align: top;\n",
       "    }\n",
       "\n",
       "    .dataframe thead th {\n",
       "        text-align: right;\n",
       "    }\n",
       "</style>\n",
       "<table border=\"1\" class=\"dataframe\">\n",
       "  <thead>\n",
       "    <tr style=\"text-align: right;\">\n",
       "      <th></th>\n",
       "      <th>data</th>\n",
       "      <th>labels</th>\n",
       "    </tr>\n",
       "  </thead>\n",
       "  <tbody>\n",
       "    <tr>\n",
       "      <th>0</th>\n",
       "      <td>Musicians to tackle US red tape  Musicians gro...</td>\n",
       "      <td>entertainment</td>\n",
       "    </tr>\n",
       "    <tr>\n",
       "      <th>1</th>\n",
       "      <td>U2s desire to be number one  U2, who have won ...</td>\n",
       "      <td>entertainment</td>\n",
       "    </tr>\n",
       "    <tr>\n",
       "      <th>2</th>\n",
       "      <td>Rocker Doherty in on-stage fight  Rock singer ...</td>\n",
       "      <td>entertainment</td>\n",
       "    </tr>\n",
       "    <tr>\n",
       "      <th>3</th>\n",
       "      <td>Snicket tops US box office chart  The film ada...</td>\n",
       "      <td>entertainment</td>\n",
       "    </tr>\n",
       "    <tr>\n",
       "      <th>4</th>\n",
       "      <td>Oceans Twelve raids box office  Oceans Twelve,...</td>\n",
       "      <td>entertainment</td>\n",
       "    </tr>\n",
       "  </tbody>\n",
       "</table>\n",
       "</div>"
      ],
      "text/plain": [
       "                                                data         labels\n",
       "0  Musicians to tackle US red tape  Musicians gro...  entertainment\n",
       "1  U2s desire to be number one  U2, who have won ...  entertainment\n",
       "2  Rocker Doherty in on-stage fight  Rock singer ...  entertainment\n",
       "3  Snicket tops US box office chart  The film ada...  entertainment\n",
       "4  Oceans Twelve raids box office  Oceans Twelve,...  entertainment"
      ]
     },
     "execution_count": 2,
     "metadata": {},
     "output_type": "execute_result"
    }
   ],
   "source": [
    "df = pd.read_csv(\"/kaggle/input/bbc-full-text-document-classification/bbc_data.csv\")\n",
    "df.head()"
   ]
  },
  {
   "cell_type": "code",
   "execution_count": 3,
   "id": "53ca07f0",
   "metadata": {
    "execution": {
     "iopub.execute_input": "2024-05-12T17:37:35.400940Z",
     "iopub.status.busy": "2024-05-12T17:37:35.400524Z",
     "iopub.status.idle": "2024-05-12T17:37:35.412164Z",
     "shell.execute_reply": "2024-05-12T17:37:35.410916Z"
    },
    "papermill": {
     "duration": 0.02611,
     "end_time": "2024-05-12T17:37:35.414951",
     "exception": false,
     "start_time": "2024-05-12T17:37:35.388841",
     "status": "completed"
    },
    "tags": []
   },
   "outputs": [
    {
     "data": {
      "text/plain": [
       "data      0\n",
       "labels    0\n",
       "dtype: int64"
      ]
     },
     "execution_count": 3,
     "metadata": {},
     "output_type": "execute_result"
    }
   ],
   "source": [
    "df.isnull().sum()"
   ]
  },
  {
   "cell_type": "code",
   "execution_count": 4,
   "id": "bc06b62f",
   "metadata": {
    "execution": {
     "iopub.execute_input": "2024-05-12T17:37:35.438122Z",
     "iopub.status.busy": "2024-05-12T17:37:35.437445Z",
     "iopub.status.idle": "2024-05-12T17:37:35.467466Z",
     "shell.execute_reply": "2024-05-12T17:37:35.466026Z"
    },
    "papermill": {
     "duration": 0.045492,
     "end_time": "2024-05-12T17:37:35.470785",
     "exception": false,
     "start_time": "2024-05-12T17:37:35.425293",
     "status": "completed"
    },
    "tags": []
   },
   "outputs": [
    {
     "name": "stdout",
     "output_type": "stream",
     "text": [
      "<class 'pandas.core.frame.DataFrame'>\n",
      "RangeIndex: 2225 entries, 0 to 2224\n",
      "Data columns (total 2 columns):\n",
      " #   Column  Non-Null Count  Dtype \n",
      "---  ------  --------------  ----- \n",
      " 0   data    2225 non-null   object\n",
      " 1   labels  2225 non-null   object\n",
      "dtypes: object(2)\n",
      "memory usage: 34.9+ KB\n"
     ]
    }
   ],
   "source": [
    "df.info()"
   ]
  },
  {
   "cell_type": "code",
   "execution_count": 5,
   "id": "c8af06e9",
   "metadata": {
    "execution": {
     "iopub.execute_input": "2024-05-12T17:37:35.495149Z",
     "iopub.status.busy": "2024-05-12T17:37:35.494456Z",
     "iopub.status.idle": "2024-05-12T17:37:35.503642Z",
     "shell.execute_reply": "2024-05-12T17:37:35.502273Z"
    },
    "papermill": {
     "duration": 0.025133,
     "end_time": "2024-05-12T17:37:35.506951",
     "exception": false,
     "start_time": "2024-05-12T17:37:35.481818",
     "status": "completed"
    },
    "tags": []
   },
   "outputs": [
    {
     "data": {
      "text/plain": [
       "labels\n",
       "sport            511\n",
       "business         510\n",
       "politics         417\n",
       "tech             401\n",
       "entertainment    386\n",
       "Name: count, dtype: int64"
      ]
     },
     "execution_count": 5,
     "metadata": {},
     "output_type": "execute_result"
    }
   ],
   "source": [
    "df['labels'].value_counts()"
   ]
  },
  {
   "cell_type": "markdown",
   "id": "49583502",
   "metadata": {
    "papermill": {
     "duration": 0.010825,
     "end_time": "2024-05-12T17:37:35.529297",
     "exception": false,
     "start_time": "2024-05-12T17:37:35.518472",
     "status": "completed"
    },
    "tags": []
   },
   "source": [
    "# Preprocess"
   ]
  },
  {
   "cell_type": "code",
   "execution_count": 6,
   "id": "002d5c37",
   "metadata": {
    "execution": {
     "iopub.execute_input": "2024-05-12T17:37:35.553783Z",
     "iopub.status.busy": "2024-05-12T17:37:35.553311Z",
     "iopub.status.idle": "2024-05-12T17:37:35.569717Z",
     "shell.execute_reply": "2024-05-12T17:37:35.568308Z"
    },
    "papermill": {
     "duration": 0.031814,
     "end_time": "2024-05-12T17:37:35.573034",
     "exception": false,
     "start_time": "2024-05-12T17:37:35.541220",
     "status": "completed"
    },
    "tags": []
   },
   "outputs": [],
   "source": [
    "stop_words = stopwords.words('english')\n",
    "\n",
    "def data_cleaning(text):\n",
    "\n",
    "    # Convert to lower\n",
    "    text = text.lower()\n",
    "    \n",
    "    remove_stopwords = [word for word in text.split() if word not in stop_words]\n",
    "    text = ' '.join(remove_stopwords)\n",
    "    \n",
    "    # Remove punctuations\n",
    "    text = text.translate(str.maketrans('', '', string.punctuation))\n",
    "    \n",
    "    # Remove digits\n",
    "    text = re.sub(r\"\\d\", '', text)\n",
    "    \n",
    "    # Remove extra spaces\n",
    "    text = re.sub(r\"\\s+\", \" \", text)\n",
    "    \n",
    "    return text\n",
    "    "
   ]
  },
  {
   "cell_type": "code",
   "execution_count": 7,
   "id": "f4eb5641",
   "metadata": {
    "execution": {
     "iopub.execute_input": "2024-05-12T17:37:35.597907Z",
     "iopub.status.busy": "2024-05-12T17:37:35.597399Z",
     "iopub.status.idle": "2024-05-12T17:37:37.910427Z",
     "shell.execute_reply": "2024-05-12T17:37:37.909040Z"
    },
    "papermill": {
     "duration": 2.328733,
     "end_time": "2024-05-12T17:37:37.913602",
     "exception": false,
     "start_time": "2024-05-12T17:37:35.584869",
     "status": "completed"
    },
    "tags": []
   },
   "outputs": [],
   "source": [
    "df['data_cleaned'] = df['data'].apply(data_cleaning)"
   ]
  },
  {
   "cell_type": "markdown",
   "id": "7f5fbad7",
   "metadata": {
    "papermill": {
     "duration": 0.010906,
     "end_time": "2024-05-12T17:37:37.944841",
     "exception": false,
     "start_time": "2024-05-12T17:37:37.933935",
     "status": "completed"
    },
    "tags": []
   },
   "source": [
    "# CountVectorizer & ANN"
   ]
  },
  {
   "cell_type": "code",
   "execution_count": 8,
   "id": "c9e8a073",
   "metadata": {
    "execution": {
     "iopub.execute_input": "2024-05-12T17:37:37.969647Z",
     "iopub.status.busy": "2024-05-12T17:37:37.969139Z",
     "iopub.status.idle": "2024-05-12T17:37:37.979955Z",
     "shell.execute_reply": "2024-05-12T17:37:37.978947Z"
    },
    "papermill": {
     "duration": 0.026043,
     "end_time": "2024-05-12T17:37:37.982361",
     "exception": false,
     "start_time": "2024-05-12T17:37:37.956318",
     "status": "completed"
    },
    "tags": []
   },
   "outputs": [],
   "source": [
    "X = df['data_cleaned']\n",
    "y = df['labels']\n",
    "\n",
    "X_train, X_test, y_train, y_test = train_test_split(X, y, test_size=0.2, shuffle=True)"
   ]
  },
  {
   "cell_type": "code",
   "execution_count": 9,
   "id": "2e76cc82",
   "metadata": {
    "execution": {
     "iopub.execute_input": "2024-05-12T17:37:38.006627Z",
     "iopub.status.busy": "2024-05-12T17:37:38.005718Z",
     "iopub.status.idle": "2024-05-12T17:37:39.924358Z",
     "shell.execute_reply": "2024-05-12T17:37:39.922631Z"
    },
    "papermill": {
     "duration": 1.934872,
     "end_time": "2024-05-12T17:37:39.927711",
     "exception": false,
     "start_time": "2024-05-12T17:37:37.992839",
     "status": "completed"
    },
    "tags": []
   },
   "outputs": [],
   "source": [
    "vect = CountVectorizer()\n",
    "vect.fit(df['data_cleaned'])\n",
    "\n",
    "X_train = vect.transform(X_train).toarray()\n",
    "X_test = vect.transform(X_test).toarray()"
   ]
  },
  {
   "cell_type": "code",
   "execution_count": 10,
   "id": "46abf9ab",
   "metadata": {
    "execution": {
     "iopub.execute_input": "2024-05-12T17:37:39.953166Z",
     "iopub.status.busy": "2024-05-12T17:37:39.952650Z",
     "iopub.status.idle": "2024-05-12T17:37:39.962520Z",
     "shell.execute_reply": "2024-05-12T17:37:39.961256Z"
    },
    "papermill": {
     "duration": 0.0257,
     "end_time": "2024-05-12T17:37:39.965406",
     "exception": false,
     "start_time": "2024-05-12T17:37:39.939706",
     "status": "completed"
    },
    "tags": []
   },
   "outputs": [],
   "source": [
    "y_train = pd.get_dummies(y_train, dtype=int)\n",
    "y_test = pd.get_dummies(y_test, dtype=int)"
   ]
  },
  {
   "cell_type": "code",
   "execution_count": 11,
   "id": "b01f22cc",
   "metadata": {
    "execution": {
     "iopub.execute_input": "2024-05-12T17:37:39.989484Z",
     "iopub.status.busy": "2024-05-12T17:37:39.989023Z",
     "iopub.status.idle": "2024-05-12T17:37:40.002530Z",
     "shell.execute_reply": "2024-05-12T17:37:40.000234Z"
    },
    "papermill": {
     "duration": 0.030443,
     "end_time": "2024-05-12T17:37:40.006836",
     "exception": false,
     "start_time": "2024-05-12T17:37:39.976393",
     "status": "completed"
    },
    "tags": []
   },
   "outputs": [
    {
     "data": {
      "text/html": [
       "<div>\n",
       "<style scoped>\n",
       "    .dataframe tbody tr th:only-of-type {\n",
       "        vertical-align: middle;\n",
       "    }\n",
       "\n",
       "    .dataframe tbody tr th {\n",
       "        vertical-align: top;\n",
       "    }\n",
       "\n",
       "    .dataframe thead th {\n",
       "        text-align: right;\n",
       "    }\n",
       "</style>\n",
       "<table border=\"1\" class=\"dataframe\">\n",
       "  <thead>\n",
       "    <tr style=\"text-align: right;\">\n",
       "      <th></th>\n",
       "      <th>business</th>\n",
       "      <th>entertainment</th>\n",
       "      <th>politics</th>\n",
       "      <th>sport</th>\n",
       "      <th>tech</th>\n",
       "    </tr>\n",
       "  </thead>\n",
       "  <tbody>\n",
       "    <tr>\n",
       "      <th>126</th>\n",
       "      <td>0</td>\n",
       "      <td>1</td>\n",
       "      <td>0</td>\n",
       "      <td>0</td>\n",
       "      <td>0</td>\n",
       "    </tr>\n",
       "    <tr>\n",
       "      <th>1883</th>\n",
       "      <td>0</td>\n",
       "      <td>0</td>\n",
       "      <td>0</td>\n",
       "      <td>0</td>\n",
       "      <td>1</td>\n",
       "    </tr>\n",
       "  </tbody>\n",
       "</table>\n",
       "</div>"
      ],
      "text/plain": [
       "      business  entertainment  politics  sport  tech\n",
       "126          0              1         0      0     0\n",
       "1883         0              0         0      0     1"
      ]
     },
     "execution_count": 11,
     "metadata": {},
     "output_type": "execute_result"
    }
   ],
   "source": [
    "y_train[:2]"
   ]
  },
  {
   "cell_type": "code",
   "execution_count": 12,
   "id": "5fd24e1d",
   "metadata": {
    "execution": {
     "iopub.execute_input": "2024-05-12T17:37:40.031523Z",
     "iopub.status.busy": "2024-05-12T17:37:40.030663Z",
     "iopub.status.idle": "2024-05-12T17:37:40.153568Z",
     "shell.execute_reply": "2024-05-12T17:37:40.152493Z"
    },
    "papermill": {
     "duration": 0.138328,
     "end_time": "2024-05-12T17:37:40.156228",
     "exception": false,
     "start_time": "2024-05-12T17:37:40.017900",
     "status": "completed"
    },
    "tags": []
   },
   "outputs": [],
   "source": [
    "def initialize_model(input):\n",
    "    input = tf.keras.Input(shape=(input,))\n",
    "\n",
    "    x = Dense(8, activation='relu')(input)\n",
    "    x = Dropout(0.2)(x)\n",
    "    outputs = Dense(5, activation='softmax')(x)\n",
    "    model = tf.keras.Model(input, outputs)\n",
    "\n",
    "    model.compile(optimizer='adam', loss='categorical_crossentropy', metrics=['accuracy'])\n",
    "    \n",
    "    return model\n",
    "\n",
    "CountVectorizer_ANN = initialize_model(X_train.shape[1])"
   ]
  },
  {
   "cell_type": "code",
   "execution_count": 13,
   "id": "8d98298d",
   "metadata": {
    "execution": {
     "iopub.execute_input": "2024-05-12T17:37:40.180564Z",
     "iopub.status.busy": "2024-05-12T17:37:40.179687Z",
     "iopub.status.idle": "2024-05-12T17:37:52.589688Z",
     "shell.execute_reply": "2024-05-12T17:37:52.588471Z"
    },
    "papermill": {
     "duration": 12.425695,
     "end_time": "2024-05-12T17:37:52.592970",
     "exception": false,
     "start_time": "2024-05-12T17:37:40.167275",
     "status": "completed"
    },
    "tags": []
   },
   "outputs": [
    {
     "name": "stdout",
     "output_type": "stream",
     "text": [
      "Epoch 1/15\n",
      "\u001b[1m45/45\u001b[0m \u001b[32m━━━━━━━━━━━━━━━━━━━━\u001b[0m\u001b[37m\u001b[0m \u001b[1m2s\u001b[0m 22ms/step - accuracy: 0.5046 - loss: 1.3444 - val_accuracy: 0.9270 - val_loss: 0.6298\n",
      "Epoch 2/15\n",
      "\u001b[1m45/45\u001b[0m \u001b[32m━━━━━━━━━━━━━━━━━━━━\u001b[0m\u001b[37m\u001b[0m \u001b[1m1s\u001b[0m 12ms/step - accuracy: 0.8625 - loss: 0.5123 - val_accuracy: 0.9579 - val_loss: 0.3730\n",
      "Epoch 3/15\n",
      "\u001b[1m45/45\u001b[0m \u001b[32m━━━━━━━━━━━━━━━━━━━━\u001b[0m\u001b[37m\u001b[0m \u001b[1m1s\u001b[0m 12ms/step - accuracy: 0.9303 - loss: 0.2915 - val_accuracy: 0.9522 - val_loss: 0.2867\n",
      "Epoch 4/15\n",
      "\u001b[1m45/45\u001b[0m \u001b[32m━━━━━━━━━━━━━━━━━━━━\u001b[0m\u001b[37m\u001b[0m \u001b[1m1s\u001b[0m 12ms/step - accuracy: 0.9301 - loss: 0.2290 - val_accuracy: 0.9551 - val_loss: 0.2435\n",
      "Epoch 5/15\n",
      "\u001b[1m45/45\u001b[0m \u001b[32m━━━━━━━━━━━━━━━━━━━━\u001b[0m\u001b[37m\u001b[0m \u001b[1m1s\u001b[0m 11ms/step - accuracy: 0.9596 - loss: 0.1796 - val_accuracy: 0.9607 - val_loss: 0.2238\n",
      "Epoch 6/15\n",
      "\u001b[1m45/45\u001b[0m \u001b[32m━━━━━━━━━━━━━━━━━━━━\u001b[0m\u001b[37m\u001b[0m \u001b[1m1s\u001b[0m 11ms/step - accuracy: 0.9588 - loss: 0.1488 - val_accuracy: 0.9579 - val_loss: 0.2034\n",
      "Epoch 7/15\n",
      "\u001b[1m45/45\u001b[0m \u001b[32m━━━━━━━━━━━━━━━━━━━━\u001b[0m\u001b[37m\u001b[0m \u001b[1m1s\u001b[0m 12ms/step - accuracy: 0.9558 - loss: 0.1228 - val_accuracy: 0.9579 - val_loss: 0.1933\n",
      "Epoch 8/15\n",
      "\u001b[1m45/45\u001b[0m \u001b[32m━━━━━━━━━━━━━━━━━━━━\u001b[0m\u001b[37m\u001b[0m \u001b[1m1s\u001b[0m 14ms/step - accuracy: 0.9537 - loss: 0.1319 - val_accuracy: 0.9635 - val_loss: 0.1865\n",
      "Epoch 9/15\n",
      "\u001b[1m45/45\u001b[0m \u001b[32m━━━━━━━━━━━━━━━━━━━━\u001b[0m\u001b[37m\u001b[0m \u001b[1m1s\u001b[0m 12ms/step - accuracy: 0.9657 - loss: 0.0994 - val_accuracy: 0.9635 - val_loss: 0.1765\n",
      "Epoch 10/15\n",
      "\u001b[1m45/45\u001b[0m \u001b[32m━━━━━━━━━━━━━━━━━━━━\u001b[0m\u001b[37m\u001b[0m \u001b[1m1s\u001b[0m 11ms/step - accuracy: 0.9607 - loss: 0.1050 - val_accuracy: 0.9551 - val_loss: 0.1754\n",
      "Epoch 11/15\n",
      "\u001b[1m45/45\u001b[0m \u001b[32m━━━━━━━━━━━━━━━━━━━━\u001b[0m\u001b[37m\u001b[0m \u001b[1m1s\u001b[0m 11ms/step - accuracy: 0.9744 - loss: 0.0922 - val_accuracy: 0.9607 - val_loss: 0.1742\n",
      "Epoch 12/15\n",
      "\u001b[1m45/45\u001b[0m \u001b[32m━━━━━━━━━━━━━━━━━━━━\u001b[0m\u001b[37m\u001b[0m \u001b[1m1s\u001b[0m 11ms/step - accuracy: 0.9717 - loss: 0.0918 - val_accuracy: 0.9579 - val_loss: 0.1803\n",
      "Epoch 13/15\n",
      "\u001b[1m45/45\u001b[0m \u001b[32m━━━━━━━━━━━━━━━━━━━━\u001b[0m\u001b[37m\u001b[0m \u001b[1m1s\u001b[0m 12ms/step - accuracy: 0.9692 - loss: 0.0969 - val_accuracy: 0.9579 - val_loss: 0.1799\n",
      "Epoch 14/15\n",
      "\u001b[1m45/45\u001b[0m \u001b[32m━━━━━━━━━━━━━━━━━━━━\u001b[0m\u001b[37m\u001b[0m \u001b[1m1s\u001b[0m 14ms/step - accuracy: 0.9808 - loss: 0.0722 - val_accuracy: 0.9579 - val_loss: 0.1885\n",
      "Epoch 15/15\n",
      "\u001b[1m45/45\u001b[0m \u001b[32m━━━━━━━━━━━━━━━━━━━━\u001b[0m\u001b[37m\u001b[0m \u001b[1m1s\u001b[0m 12ms/step - accuracy: 0.9822 - loss: 0.0681 - val_accuracy: 0.9579 - val_loss: 0.1839\n"
     ]
    }
   ],
   "source": [
    "history = CountVectorizer_ANN.fit(X_train, y_train, validation_split=0.2, epochs=15)"
   ]
  },
  {
   "cell_type": "code",
   "execution_count": 14,
   "id": "64c2326a",
   "metadata": {
    "execution": {
     "iopub.execute_input": "2024-05-12T17:37:52.649743Z",
     "iopub.status.busy": "2024-05-12T17:37:52.647921Z",
     "iopub.status.idle": "2024-05-12T17:37:53.007077Z",
     "shell.execute_reply": "2024-05-12T17:37:53.005861Z"
    },
    "papermill": {
     "duration": 0.390608,
     "end_time": "2024-05-12T17:37:53.010296",
     "exception": false,
     "start_time": "2024-05-12T17:37:52.619688",
     "status": "completed"
    },
    "tags": []
   },
   "outputs": [
    {
     "data": {
      "image/png": "[encoded data removed]",
      "text/plain": [
       "<Figure size 600x400 with 1 Axes>"
      ]
     },
     "metadata": {},
     "output_type": "display_data"
    }
   ],
   "source": [
    "def plot_training_accuracy(history):\n",
    "    plt.figure(figsize=(6, 4))\n",
    "\n",
    "    train_acc = history.history['accuracy']\n",
    "    val_acc = history.history['val_accuracy']\n",
    "\n",
    "    epochs = range(len(train_acc))\n",
    "\n",
    "    plt.plot(epochs, train_acc, label=\"Training Acc\")\n",
    "    plt.plot(epochs, val_acc, label=\"Validation Acc\")\n",
    "\n",
    "    plt.title(\"Training and Validation Acc\")\n",
    "    plt.xlabel(\"Epoch\")\n",
    "    plt.ylabel(\"Acc\")\n",
    "    plt.legend()\n",
    "\n",
    "    plt.show()\n",
    "    \n",
    "plot_training_accuracy(history)"
   ]
  },
  {
   "cell_type": "code",
   "execution_count": 15,
   "id": "5c56844b",
   "metadata": {
    "execution": {
     "iopub.execute_input": "2024-05-12T17:37:53.068039Z",
     "iopub.status.busy": "2024-05-12T17:37:53.067571Z",
     "iopub.status.idle": "2024-05-12T17:37:53.478044Z",
     "shell.execute_reply": "2024-05-12T17:37:53.476738Z"
    },
    "papermill": {
     "duration": 0.442669,
     "end_time": "2024-05-12T17:37:53.480516",
     "exception": false,
     "start_time": "2024-05-12T17:37:53.037847",
     "status": "completed"
    },
    "tags": []
   },
   "outputs": [
    {
     "name": "stdout",
     "output_type": "stream",
     "text": [
      "\u001b[1m14/14\u001b[0m \u001b[32m━━━━━━━━━━━━━━━━━━━━\u001b[0m\u001b[37m\u001b[0m \u001b[1m0s\u001b[0m 7ms/step\n"
     ]
    },
    {
     "data": {
      "text/plain": [
       "array([[1.3976030e-07, 5.0615700e-08, 9.9999958e-01, 1.0323860e-09,\n",
       "        1.4879167e-07]], dtype=float32)"
      ]
     },
     "execution_count": 15,
     "metadata": {},
     "output_type": "execute_result"
    }
   ],
   "source": [
    "pred = CountVectorizer_ANN.predict(X_test)\n",
    "pred[:1]"
   ]
  },
  {
   "cell_type": "markdown",
   "id": "7dc573f3",
   "metadata": {
    "papermill": {
     "duration": 0.028443,
     "end_time": "2024-05-12T17:37:53.537203",
     "exception": false,
     "start_time": "2024-05-12T17:37:53.508760",
     "status": "completed"
    },
    "tags": []
   },
   "source": [
    "Select the class with the highest probability as the predicted outcome"
   ]
  },
  {
   "cell_type": "code",
   "execution_count": 16,
   "id": "116e0dc8",
   "metadata": {
    "execution": {
     "iopub.execute_input": "2024-05-12T17:37:53.595286Z",
     "iopub.status.busy": "2024-05-12T17:37:53.594836Z",
     "iopub.status.idle": "2024-05-12T17:37:53.602727Z",
     "shell.execute_reply": "2024-05-12T17:37:53.601375Z"
    },
    "papermill": {
     "duration": 0.040548,
     "end_time": "2024-05-12T17:37:53.605876",
     "exception": false,
     "start_time": "2024-05-12T17:37:53.565328",
     "status": "completed"
    },
    "tags": []
   },
   "outputs": [
    {
     "name": "stdout",
     "output_type": "stream",
     "text": [
      "0.9617977528089887\n"
     ]
    }
   ],
   "source": [
    "y_pred = np.argmax(pred, axis=1)\n",
    "\n",
    "# Convert y_test from one-hot encoded format like [0 0 1 0] to categorical labels by selecting the index with the highest value\n",
    "y_test = np.argmax(y_test, axis=1)\n",
    "\n",
    "print(accuracy_score(y_pred, y_test))"
   ]
  },
  {
   "cell_type": "markdown",
   "id": "c59beb5d",
   "metadata": {
    "papermill": {
     "duration": 0.027074,
     "end_time": "2024-05-12T17:37:53.660440",
     "exception": false,
     "start_time": "2024-05-12T17:37:53.633366",
     "status": "completed"
    },
    "tags": []
   },
   "source": [
    "Lets Examine the first 10 predicted and true test labels for evaluation"
   ]
  },
  {
   "cell_type": "code",
   "execution_count": 17,
   "id": "7e4100f2",
   "metadata": {
    "execution": {
     "iopub.execute_input": "2024-05-12T17:37:53.716281Z",
     "iopub.status.busy": "2024-05-12T17:37:53.715756Z",
     "iopub.status.idle": "2024-05-12T17:37:53.724243Z",
     "shell.execute_reply": "2024-05-12T17:37:53.722841Z"
    },
    "papermill": {
     "duration": 0.039621,
     "end_time": "2024-05-12T17:37:53.726776",
     "exception": false,
     "start_time": "2024-05-12T17:37:53.687155",
     "status": "completed"
    },
    "tags": []
   },
   "outputs": [
    {
     "name": "stdout",
     "output_type": "stream",
     "text": [
      "pred_labels: ['sport', 'business', 'tech', 'business', 'entertainment', 'business', 'business', 'sport', 'tech', 'tech']\n",
      "true_labels: ['sport', 'business', 'tech', 'business', 'entertainment', 'business', 'business', 'sport', 'tech', 'tech']\n"
     ]
    }
   ],
   "source": [
    "label_map = {0:'entertainment', 1:'business', 2:'sport', 3:'politics', 4:'tech'}\n",
    "\n",
    "# Map ndarray elements to labels\n",
    "pred_labels = [label_map[val] for val in y_pred[:10]]\n",
    "true_labels = [label_map[val] for val in y_test[:10]]\n",
    "\n",
    "print(\"pred_labels:\", pred_labels)\n",
    "print(\"true_labels:\", true_labels)"
   ]
  },
  {
   "cell_type": "markdown",
   "id": "ee5d5e83",
   "metadata": {
    "papermill": {
     "duration": 0.027524,
     "end_time": "2024-05-12T17:37:53.781671",
     "exception": false,
     "start_time": "2024-05-12T17:37:53.754147",
     "status": "completed"
    },
    "tags": []
   },
   "source": [
    "All first 10 samples are correctly classified."
   ]
  },
  {
   "cell_type": "code",
   "execution_count": 18,
   "id": "30ab5ac3",
   "metadata": {
    "execution": {
     "iopub.execute_input": "2024-05-12T17:37:53.838349Z",
     "iopub.status.busy": "2024-05-12T17:37:53.836688Z",
     "iopub.status.idle": "2024-05-12T17:37:54.271687Z",
     "shell.execute_reply": "2024-05-12T17:37:54.270338Z"
    },
    "papermill": {
     "duration": 0.466196,
     "end_time": "2024-05-12T17:37:54.274490",
     "exception": false,
     "start_time": "2024-05-12T17:37:53.808294",
     "status": "completed"
    },
    "tags": []
   },
   "outputs": [
    {
     "data": {
      "image/png": "[encoded data removed]",
      "text/plain": [
       "<Figure size 800x600 with 2 Axes>"
      ]
     },
     "metadata": {},
     "output_type": "display_data"
    }
   ],
   "source": [
    "class_labels = ['entertainment', 'business','sport','politics','tech']\n",
    "\n",
    "conf_matrix = confusion_matrix(y_pred, y_test)\n",
    "\n",
    "plt.figure(figsize=(8, 6))\n",
    "sns.heatmap(conf_matrix, annot=True, cmap='Blues', fmt='d', xticklabels=class_labels, yticklabels=class_labels)\n",
    "plt.xlabel('Predicted Labels')\n",
    "plt.ylabel('True Labels')\n",
    "plt.show()"
   ]
  },
  {
   "cell_type": "markdown",
   "id": "f0b8b969",
   "metadata": {
    "papermill": {
     "duration": 0.02726,
     "end_time": "2024-05-12T17:37:54.329425",
     "exception": false,
     "start_time": "2024-05-12T17:37:54.302165",
     "status": "completed"
    },
    "tags": []
   },
   "source": [
    "# TfidfVectorizer & ANN"
   ]
  },
  {
   "cell_type": "code",
   "execution_count": 19,
   "id": "a6c5bc31",
   "metadata": {
    "execution": {
     "iopub.execute_input": "2024-05-12T17:37:54.387666Z",
     "iopub.status.busy": "2024-05-12T17:37:54.387186Z",
     "iopub.status.idle": "2024-05-12T17:37:54.427999Z",
     "shell.execute_reply": "2024-05-12T17:37:54.426482Z"
    },
    "papermill": {
     "duration": 0.074067,
     "end_time": "2024-05-12T17:37:54.430921",
     "exception": false,
     "start_time": "2024-05-12T17:37:54.356854",
     "status": "completed"
    },
    "tags": []
   },
   "outputs": [],
   "source": [
    "X_train, X_test, y_train, y_test = train_test_split(X, y, test_size=0.2, shuffle=True)"
   ]
  },
  {
   "cell_type": "code",
   "execution_count": 20,
   "id": "db733b3d",
   "metadata": {
    "execution": {
     "iopub.execute_input": "2024-05-12T17:37:54.488930Z",
     "iopub.status.busy": "2024-05-12T17:37:54.488415Z",
     "iopub.status.idle": "2024-05-12T17:37:56.704711Z",
     "shell.execute_reply": "2024-05-12T17:37:56.703085Z"
    },
    "papermill": {
     "duration": 2.248739,
     "end_time": "2024-05-12T17:37:56.707713",
     "exception": false,
     "start_time": "2024-05-12T17:37:54.458974",
     "status": "completed"
    },
    "tags": []
   },
   "outputs": [],
   "source": [
    "tfid = TfidfVectorizer()\n",
    "\n",
    "tfid.fit(X)\n",
    "\n",
    "X_train = tfid.transform(X_train).toarray()\n",
    "X_test = tfid.transform(X_test).toarray()"
   ]
  },
  {
   "cell_type": "code",
   "execution_count": 21,
   "id": "0fa7f725",
   "metadata": {
    "execution": {
     "iopub.execute_input": "2024-05-12T17:37:56.765402Z",
     "iopub.status.busy": "2024-05-12T17:37:56.764881Z",
     "iopub.status.idle": "2024-05-12T17:37:56.774931Z",
     "shell.execute_reply": "2024-05-12T17:37:56.773636Z"
    },
    "papermill": {
     "duration": 0.042908,
     "end_time": "2024-05-12T17:37:56.777850",
     "exception": false,
     "start_time": "2024-05-12T17:37:56.734942",
     "status": "completed"
    },
    "tags": []
   },
   "outputs": [],
   "source": [
    "y_train = pd.get_dummies(y_train, dtype=int)\n",
    "y_test = pd.get_dummies(y_test, dtype=int)"
   ]
  },
  {
   "cell_type": "code",
   "execution_count": 22,
   "id": "cd0bbcc2",
   "metadata": {
    "execution": {
     "iopub.execute_input": "2024-05-12T17:37:56.836053Z",
     "iopub.status.busy": "2024-05-12T17:37:56.835558Z",
     "iopub.status.idle": "2024-05-12T17:38:07.176110Z",
     "shell.execute_reply": "2024-05-12T17:38:07.175107Z"
    },
    "papermill": {
     "duration": 10.374294,
     "end_time": "2024-05-12T17:38:07.179405",
     "exception": false,
     "start_time": "2024-05-12T17:37:56.805111",
     "status": "completed"
    },
    "tags": []
   },
   "outputs": [
    {
     "name": "stdout",
     "output_type": "stream",
     "text": [
      "Epoch 1/15\n",
      "\u001b[1m45/45\u001b[0m \u001b[32m━━━━━━━━━━━━━━━━━━━━\u001b[0m\u001b[37m\u001b[0m \u001b[1m2s\u001b[0m 25ms/step - accuracy: 0.3087 - loss: 1.5897 - val_accuracy: 0.3961 - val_loss: 1.5157\n",
      "Epoch 2/15\n",
      "\u001b[1m45/45\u001b[0m \u001b[32m━━━━━━━━━━━━━━━━━━━━\u001b[0m\u001b[37m\u001b[0m \u001b[1m0s\u001b[0m 10ms/step - accuracy: 0.4944 - loss: 1.4524 - val_accuracy: 0.5758 - val_loss: 1.3988\n",
      "Epoch 3/15\n",
      "\u001b[1m45/45\u001b[0m \u001b[32m━━━━━━━━━━━━━━━━━━━━\u001b[0m\u001b[37m\u001b[0m \u001b[1m1s\u001b[0m 11ms/step - accuracy: 0.6620 - loss: 1.2965 - val_accuracy: 0.6966 - val_loss: 1.2679\n",
      "Epoch 4/15\n",
      "\u001b[1m45/45\u001b[0m \u001b[32m━━━━━━━━━━━━━━━━━━━━\u001b[0m\u001b[37m\u001b[0m \u001b[1m0s\u001b[0m 10ms/step - accuracy: 0.7151 - loss: 1.1491 - val_accuracy: 0.7893 - val_loss: 1.1299\n",
      "Epoch 5/15\n",
      "\u001b[1m45/45\u001b[0m \u001b[32m━━━━━━━━━━━━━━━━━━━━\u001b[0m\u001b[37m\u001b[0m \u001b[1m0s\u001b[0m 10ms/step - accuracy: 0.8145 - loss: 0.9907 - val_accuracy: 0.8624 - val_loss: 0.9861\n",
      "Epoch 6/15\n",
      "\u001b[1m45/45\u001b[0m \u001b[32m━━━━━━━━━━━━━━━━━━━━\u001b[0m\u001b[37m\u001b[0m \u001b[1m1s\u001b[0m 11ms/step - accuracy: 0.9007 - loss: 0.8487 - val_accuracy: 0.9073 - val_loss: 0.8486\n",
      "Epoch 7/15\n",
      "\u001b[1m45/45\u001b[0m \u001b[32m━━━━━━━━━━━━━━━━━━━━\u001b[0m\u001b[37m\u001b[0m \u001b[1m1s\u001b[0m 11ms/step - accuracy: 0.9167 - loss: 0.6975 - val_accuracy: 0.9298 - val_loss: 0.7235\n",
      "Epoch 8/15\n",
      "\u001b[1m45/45\u001b[0m \u001b[32m━━━━━━━━━━━━━━━━━━━━\u001b[0m\u001b[37m\u001b[0m \u001b[1m1s\u001b[0m 11ms/step - accuracy: 0.9641 - loss: 0.5451 - val_accuracy: 0.9466 - val_loss: 0.6156\n",
      "Epoch 9/15\n",
      "\u001b[1m45/45\u001b[0m \u001b[32m━━━━━━━━━━━━━━━━━━━━\u001b[0m\u001b[37m\u001b[0m \u001b[1m0s\u001b[0m 9ms/step - accuracy: 0.9494 - loss: 0.4726 - val_accuracy: 0.9579 - val_loss: 0.5280\n",
      "Epoch 10/15\n",
      "\u001b[1m45/45\u001b[0m \u001b[32m━━━━━━━━━━━━━━━━━━━━\u001b[0m\u001b[37m\u001b[0m \u001b[1m0s\u001b[0m 10ms/step - accuracy: 0.9515 - loss: 0.4032 - val_accuracy: 0.9635 - val_loss: 0.4600\n",
      "Epoch 11/15\n",
      "\u001b[1m45/45\u001b[0m \u001b[32m━━━━━━━━━━━━━━━━━━━━\u001b[0m\u001b[37m\u001b[0m \u001b[1m1s\u001b[0m 10ms/step - accuracy: 0.9668 - loss: 0.3328 - val_accuracy: 0.9691 - val_loss: 0.4055\n",
      "Epoch 12/15\n",
      "\u001b[1m45/45\u001b[0m \u001b[32m━━━━━━━━━━━━━━━━━━━━\u001b[0m\u001b[37m\u001b[0m \u001b[1m0s\u001b[0m 10ms/step - accuracy: 0.9588 - loss: 0.2997 - val_accuracy: 0.9691 - val_loss: 0.3639\n",
      "Epoch 13/15\n",
      "\u001b[1m45/45\u001b[0m \u001b[32m━━━━━━━━━━━━━━━━━━━━\u001b[0m\u001b[37m\u001b[0m \u001b[1m0s\u001b[0m 10ms/step - accuracy: 0.9669 - loss: 0.2652 - val_accuracy: 0.9719 - val_loss: 0.3286\n",
      "Epoch 14/15\n",
      "\u001b[1m45/45\u001b[0m \u001b[32m━━━━━━━━━━━━━━━━━━━━\u001b[0m\u001b[37m\u001b[0m \u001b[1m0s\u001b[0m 10ms/step - accuracy: 0.9631 - loss: 0.2376 - val_accuracy: 0.9719 - val_loss: 0.2990\n",
      "Epoch 15/15\n",
      "\u001b[1m45/45\u001b[0m \u001b[32m━━━━━━━━━━━━━━━━━━━━\u001b[0m\u001b[37m\u001b[0m \u001b[1m1s\u001b[0m 10ms/step - accuracy: 0.9709 - loss: 0.2200 - val_accuracy: 0.9719 - val_loss: 0.2743\n"
     ]
    }
   ],
   "source": [
    "Tfidf_ANN = initialize_model(X_train.shape[1])\n",
    "\n",
    "history = Tfidf_ANN.fit(X_train, y_train, validation_split=0.2, epochs=15)"
   ]
  },
  {
   "cell_type": "code",
   "execution_count": 23,
   "id": "e831e8a0",
   "metadata": {
    "execution": {
     "iopub.execute_input": "2024-05-12T17:38:07.332504Z",
     "iopub.status.busy": "2024-05-12T17:38:07.331689Z",
     "iopub.status.idle": "2024-05-12T17:38:07.670718Z",
     "shell.execute_reply": "2024-05-12T17:38:07.669076Z"
    },
    "papermill": {
     "duration": 0.453774,
     "end_time": "2024-05-12T17:38:07.673856",
     "exception": false,
     "start_time": "2024-05-12T17:38:07.220082",
     "status": "completed"
    },
    "tags": []
   },
   "outputs": [
    {
     "data": {
      "image/png": "[encoded data removed]",
      "text/plain": [
       "<Figure size 600x400 with 1 Axes>"
      ]
     },
     "metadata": {},
     "output_type": "display_data"
    }
   ],
   "source": [
    "plot_training_accuracy(history)"
   ]
  },
  {
   "cell_type": "code",
   "execution_count": 24,
   "id": "cab4333d",
   "metadata": {
    "execution": {
     "iopub.execute_input": "2024-05-12T17:38:07.759184Z",
     "iopub.status.busy": "2024-05-12T17:38:07.757838Z",
     "iopub.status.idle": "2024-05-12T17:38:08.100528Z",
     "shell.execute_reply": "2024-05-12T17:38:08.098870Z"
    },
    "papermill": {
     "duration": 0.388574,
     "end_time": "2024-05-12T17:38:08.103423",
     "exception": false,
     "start_time": "2024-05-12T17:38:07.714849",
     "status": "completed"
    },
    "tags": []
   },
   "outputs": [
    {
     "name": "stdout",
     "output_type": "stream",
     "text": [
      "\u001b[1m14/14\u001b[0m \u001b[32m━━━━━━━━━━━━━━━━━━━━\u001b[0m\u001b[37m\u001b[0m \u001b[1m0s\u001b[0m 5ms/step\n",
      "0.9617977528089887\n"
     ]
    }
   ],
   "source": [
    "pred = Tfidf_ANN.predict(X_test)\n",
    "\n",
    "y_pred = np.argmax(pred, axis=1)\n",
    "\n",
    "# Convert y_test from one-hot encoded format like [0 0 1 0] to categorical labels by selecting the index with the highest value\n",
    "y_test = np.argmax(y_test, axis=1)\n",
    "\n",
    "print(accuracy_score(y_pred, y_test))"
   ]
  },
  {
   "cell_type": "markdown",
   "id": "b499b2f3",
   "metadata": {
    "execution": {
     "iopub.execute_input": "2024-05-12T17:22:13.442812Z",
     "iopub.status.busy": "2024-05-12T17:22:13.442317Z",
     "iopub.status.idle": "2024-05-12T17:22:13.452793Z",
     "shell.execute_reply": "2024-05-12T17:22:13.450366Z",
     "shell.execute_reply.started": "2024-05-12T17:22:13.442779Z"
    },
    "papermill": {
     "duration": 0.046687,
     "end_time": "2024-05-12T17:38:08.195210",
     "exception": false,
     "start_time": "2024-05-12T17:38:08.148523",
     "status": "completed"
    },
    "tags": []
   },
   "source": [
    "<div style=\"color:white;\n",
    "            display:fill;\n",
    "            border-radius:15px;\n",
    "            background-color:skyblue;\n",
    "            font-size:100%;\n",
    "            font-family:Verdana;\n",
    "            letter-spacing:1px\">\n",
    "    <h2 style='padding: 20px;\n",
    "              color:black;\n",
    "              text-align:center;'>\n",
    "        IF YOU LIKED THE NOTEBOOK PLEASE DO UPVOTE!  \n",
    "    </h2>\n",
    "    </div>"
   ]
  }
 ],
 "metadata": {
  "kaggle": {
   "accelerator": "none",
   "dataSources": [
    {
     "datasetId": 4731581,
     "sourceId": 8028092,
     "sourceType": "datasetVersion"
    }
   ],
   "dockerImageVersionId": 30698,
   "isGpuEnabled": false,
   "isInternetEnabled": true,
   "language": "python",
   "sourceType": "notebook"
  },
  "kernelspec": {
   "display_name": "Python 3",
   "language": "python",
   "name": "python3"
  },
  "language_info": {
   "codemirror_mode": {
    "name": "ipython",
    "version": 3
   },
   "file_extension": ".py",
   "mimetype": "text/x-python",
   "name": "python",
   "nbconvert_exporter": "python",
   "pygments_lexer": "ipython3",
   "version": "3.10.13"
  },
  "papermill": {
   "default_parameters": {},
   "duration": 59.269677,
   "end_time": "2024-05-12T17:38:11.349419",
   "environment_variables": {},
   "exception": null,
   "input_path": "__notebook__.ipynb",
   "output_path": "__notebook__.ipynb",
   "parameters": {},
   "start_time": "2024-05-12T17:37:12.079742",
   "version": "2.5.0"
  }
 },
 "nbformat": 4,
 "nbformat_minor": 5
}
